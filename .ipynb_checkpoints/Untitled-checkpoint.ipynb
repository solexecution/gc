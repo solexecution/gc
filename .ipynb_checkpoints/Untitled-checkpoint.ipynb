{
 "cells": [
  {
   "cell_type": "code",
   "execution_count": null,
   "metadata": {},
   "outputs": [],
   "source": [
    "import tweepy\n",
    "import pandas as pd\n",
    "\n",
    "twitter_accounts = ['@get_chip','@monzo','@StarlingBank','@RevolutApp']\n",
    "\n",
    "print(twitter_accounts)\n",
    "\n",
    "consumer_key = 'qLSVDZMb4XDKytE26DuApbNok'\n",
    "consumer_secret = 'WJpcfIVv9Iu5nAa5A3fSx1bZdp34mlmmL7KShz1Jj81xK5mofM'\n",
    "access_token = '859383719236444161-xdreob4U9B9JkpRR18q7htmKbKSIMI6'\n",
    "access_token_secret = 'LpGtMOwdojIaDia391ydWoVBz34FLUlfpOTcBhpyPxR6M'\n",
    "\n",
    "auth = tweepy.OAuthHandler(consumer_key, consumer_secret)\n",
    "auth.set_access_token(access_token, access_token_secret)\n",
    "\n",
    "api = tweepy.API(auth)\n",
    "\n",
    "# api.update_status(\"Look, I'm tweeting from #Python\")\n",
    "tweets = tw.Cursor(api.search,\n",
    "              q='@get_chip',\n",
    "              lang=\"en\",\n",
    "              since=date_since).items(5)\n",
    "tweets"
   ]
  }
 ],
 "metadata": {
  "kernelspec": {
   "display_name": "Python 3",
   "language": "python",
   "name": "python3"
  },
  "language_info": {
   "codemirror_mode": {
    "name": "ipython",
    "version": 3
   },
   "file_extension": ".py",
   "mimetype": "text/x-python",
   "name": "python",
   "nbconvert_exporter": "python",
   "pygments_lexer": "ipython3",
   "version": "3.7.4"
  }
 },
 "nbformat": 4,
 "nbformat_minor": 2
}
