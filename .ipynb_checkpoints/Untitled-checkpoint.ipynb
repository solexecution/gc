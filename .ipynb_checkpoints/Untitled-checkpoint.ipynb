{
 "cells": [
  {
   "cell_type": "code",
   "execution_count": 7,
   "metadata": {},
   "outputs": [],
   "source": [
    "import tweepy as tw\n",
    "import pandas as pd\n",
    "\n",
    "twitter_accounts = ['@get_chip','@monzo','@StarlingBank','@RevolutApp']\n",
    "\n",
    "# print(twitter_accounts)\n",
    "\n",
    "consumer_key = 'qLSVDZMb4XDKytE26DuApbNok'\n",
    "consumer_secret = 'WJpcfIVv9Iu5nAa5A3fSx1bZdp34mlmmL7KShz1Jj81xK5mofM'\n",
    "access_token = '859383719236444161-xdreob4U9B9JkpRR18q7htmKbKSIMI6'\n",
    "access_token_secret = 'LpGtMOwdojIaDia391ydWoVBz34FLUlfpOTcBhpyPxR6M'\n",
    "\n",
    "auth = tw.OAuthHandler(consumer_key, consumer_secret)\n",
    "auth.set_access_token(access_token, access_token_secret)\n",
    "\n",
    "api = tw.API(auth)\n",
    "\n",
    "# api.update_status(\"Look, I'm tweeting from #Python\")\n",
    "tweets = tw.Cursor(api.search,q='@get_chip').items(2)"
   ]
  },
  {
   "cell_type": "code",
   "execution_count": 8,
   "metadata": {},
   "outputs": [
    {
     "data": {
      "text/plain": [
       "[\"@Get_Chip are your advisors in over the weekend? I'm STILL without a penny trying to get my money back and incurrin… https://t.co/yhkn10FW7s\",\n",
       " 'RT @MattDyson17: Really enjoyed speaking about Rockit’s crowdfunding journey at the @The_Pitch &amp; @Crowdcube Funding Event this morning. Som…']"
      ]
     },
     "execution_count": 8,
     "metadata": {},
     "output_type": "execute_result"
    }
   ],
   "source": [
    "[tweet.text for tweet in tweets]"
   ]
  },
  {
   "cell_type": "code",
   "execution_count": 9,
   "metadata": {},
   "outputs": [
    {
     "name": "stdout",
     "output_type": "stream",
     "text": [
      "The Zen of Python, by Tim Peters\n",
      "\n",
      "Beautiful is better than ugly.\n",
      "Explicit is better than implicit.\n",
      "Simple is better than complex.\n",
      "Complex is better than complicated.\n",
      "Flat is better than nested.\n",
      "Sparse is better than dense.\n",
      "Readability counts.\n",
      "Special cases aren't special enough to break the rules.\n",
      "Although practicality beats purity.\n",
      "Errors should never pass silently.\n",
      "Unless explicitly silenced.\n",
      "In the face of ambiguity, refuse the temptation to guess.\n",
      "There should be one-- and preferably only one --obvious way to do it.\n",
      "Although that way may not be obvious at first unless you're Dutch.\n",
      "Now is better than never.\n",
      "Although never is often better than *right* now.\n",
      "If the implementation is hard to explain, it's a bad idea.\n",
      "If the implementation is easy to explain, it may be a good idea.\n",
      "Namespaces are one honking great idea -- let's do more of those!\n"
     ]
    }
   ],
   "source": [
    "import this"
   ]
  },
  {
   "cell_type": "code",
   "execution_count": 10,
   "metadata": {},
   "outputs": [
    {
     "data": {
      "text/plain": [
       "[\"@Get_Chip are your advisors in over the weekend? I'm STILL without a penny trying to get my money back and incurrin… https://t.co/yhkn10FW7s\",\n",
       " 'RT @MattDyson17: Really enjoyed speaking about Rockit’s crowdfunding journey at the @The_Pitch &amp; @Crowdcube Funding Event this morning. Som…']"
      ]
     },
     "execution_count": 10,
     "metadata": {},
     "output_type": "execute_result"
    }
   ],
   "source": [
    "_"
   ]
  },
  {
   "cell_type": "code",
   "execution_count": 30,
   "metadata": {},
   "outputs": [
    {
     "name": "stdout",
     "output_type": "stream",
     "text": [
      "<class 'list'>\n"
     ]
    }
   ],
   "source": [
    "from urllib.request import urlopen\n",
    "with urlopen('https://www.redkiteintelligence.com') as story:\n",
    "   story_words = []\n",
    "   for line in story:\n",
    "      line_words = line.decode('utf-8').split()\n",
    "      for word in line_words:\n",
    "          story_words.append(word)\n",
    "print(type(story_words))\n"
   ]
  },
  {
   "cell_type": "code",
   "execution_count": 32,
   "metadata": {},
   "outputs": [
    {
     "data": {
      "text/plain": [
       "<div                                           493\n",
       "</div>                                         413\n",
       "-->                                            237\n",
       "<!--                                           213\n",
       "class=\"summary-metadata                        138\n",
       "Metadata                                        69\n",
       "summary-metadata--primary\">                     69\n",
       "summary-metadata--secondary\">                   69\n",
       "class=\"summary-metadata-container               69\n",
       "and                                             60\n",
       "class=\"sqs-block                                60\n",
       "<a                                              55\n",
       "End                                             49\n",
       "data-image-focal-point=\"0.5,0.5\"                46\n",
       "(Below                                          46\n",
       "Title)                                          46\n",
       "class=\"col                                      43\n",
       "data-load=\"false\"                               43\n",
       ">                                               36\n",
       "/>                                              33\n",
       "\"                                               31\n",
       "</a>                                            31\n",
       "to                                              30\n",
       "<img                                            30\n",
       "data-type=\"image\"                               29\n",
       "<noscript><img                                  25\n",
       "class=\"                                         25\n",
       "sqs-block-html\"                                 24\n",
       "html-block                                      24\n",
       "Title                                           24\n",
       "data-block-type=\"2\"                             24\n",
       "summary-item-has-author                         23\n",
       "Description                                     23\n",
       "class=\"summary-thumbnail                        23\n",
       "class=\"summary-thumbnail-image\"/>               23\n",
       "Thumbnail                                       23\n",
       "Caption                                         23\n",
       "img-wrapper\">                                   23\n",
       "summary-item                                    23\n",
       "summary-metadata-container--below-content\">     23\n",
       "dtype: int64"
      ]
     },
     "execution_count": 32,
     "metadata": {},
     "output_type": "execute_result"
    }
   ],
   "source": [
    "pd.Series(story_words).value_counts().sort_values(ascending=False).head(40)"
   ]
  },
  {
   "cell_type": "code",
   "execution_count": 18,
   "metadata": {},
   "outputs": [
    {
     "data": {
      "text/plain": [
       "[\"@Get_Chip are your advisors in over the weekend? I'm STILL without a penny trying to get my money back and incurrin… https://t.co/yhkn10FW7s\",\n",
       " 'RT @MattDyson17: Really enjoyed speaking about Rockit’s crowdfunding journey at the @The_Pitch &amp; @Crowdcube Funding Event this morning. Som…',\n",
       " 'RT @The_IGR: @HSBC_UK I appreciate that however the reduction of access to other accounts (Savings and Credit Card) over #OpenBanking witho…',\n",
       " 'Open Banking Update: @emma_finance  @Get_Chip @withplum https://t.co/Dco7TkvTiX',\n",
       " '@HSBC_UK I appreciate that however the reduction of access to other accounts (Savings and Credit Card) over… https://t.co/7Gp8xHGCdJ',\n",
       " '@emma_finance @_jgriffin @HSBC_UK @CEOemail That’s him emailed and @HSBC_UK tweeted... it’s not just Emma for me bu… https://t.co/OU9lppMRnr',\n",
       " '@Get_Chip The unsubscribe link in your emails 404s. Please fix this, because I am happy with just the iOS notification.',\n",
       " \"@Get_Chip this is taking the piss now. I STILL haven't had the money I requested back into my bank 2 days ago! This… https://t.co/DINVOmzV1C\",\n",
       " '@Get_Chip my account is showing 2 different amounts saved. One in the goals section and a different amount at the top of the chat page.',\n",
       " '@Get_Chip Have you had problems with HSBC? How can I reconnect my card?',\n",
       " '@SomeMightSay95 @Get_Chip @mikestanley88 Yep, that was a real incentive to use them over anyone else',\n",
       " '@Get_Chip @mikestanley88 I was going say Chip. Chip is a great app and worth looking into, just a shame they no lon… https://t.co/71SchuDLJM',\n",
       " '@Get_Chip You guys sound interesting',\n",
       " \"@Get_Chip hi, have you got rid of the pause option? I can't find it..\",\n",
       " '@sarah_gill @Get_Chip Ah, seems this is broken. After setting it to £100 again and saving it then going back in to… https://t.co/IF8tGtG91j',\n",
       " \"@sarah_gill @Get_Chip I changed it to £100 instead a few days ago. Just checked again and it's £500 again 🤔\",\n",
       " \"@sarah_gill @Get_Chip I may have discovered what may have been causing it. I noticed in my settings that the 'minim… https://t.co/mgeYWKFnHt\",\n",
       " 'RT @MattDyson17: Really enjoyed speaking about Rockit’s crowdfunding journey at the @The_Pitch &amp; @Crowdcube Funding Event this morning. Som…',\n",
       " '@TransferWise @Corchall @mikestanley88 @emma_finance @Get_Chip @Trading212 @freetrade @mikestanley88 Get rid of tha… https://t.co/DufQDEk1zB',\n",
       " 'Had a great conversation at @Crowdcube talking about our crowdfunding journey in front of a group of super interest… https://t.co/hJGoX8PLkE',\n",
       " 'RT @getyolt: Great to see Yolt featured in the App Store today alongside some super #fintechs @StarlingBank @monzo @RevolutApp @monese @app…',\n",
       " 'RT @getyolt: Great to see Yolt featured in the App Store today alongside some super #fintechs @StarlingBank @monzo @RevolutApp @monese @app…',\n",
       " '@Get_Chip @richardwilshaw @Denzarki Would love to hear @HSBC_UK’s response. Other UK banks work within the regulato… https://t.co/F6vjMQxmQc',\n",
       " \"@_MissieBee @monzo I love Monzo, works sooooo well. \\nI'd also recommend @Get_Chip, it takes money from my account e… https://t.co/5ipvXnZrdd\",\n",
       " 'RT @MattDyson17: Really enjoyed speaking about Rockit’s crowdfunding journey at the @The_Pitch &amp; @Crowdcube Funding Event this morning. Som…',\n",
       " \"@Get_Chip I've had £0.09 put into my bank account. Is this a joke?!\",\n",
       " \"@Corchall @mikestanley88 @emma_finance @Get_Chip @Trading212 @freetrade Nice lineup there, but we don't see this be… https://t.co/KWENRC6Qcn\",\n",
       " \"@Corchall @mikestanley88 @Get_Chip @Trading212 @freetrade @TransferWise OMG, he's using the competition and not Emma. 😭\",\n",
       " '@mikestanley88 @emma_finance @Get_Chip @Trading212 @freetrade @TransferWise Oh and @Klarna',\n",
       " '@mikestanley88 @emma_finance , @Get_Chip , @Trading212 , @freetrade @TransferWise',\n",
       " \"@Get_Chip I still can't afford to eat with this. It takes me just out of my overdraft. I'm so angry.\",\n",
       " \"@Get_Chip So despite this on the app im being told it'll now take 3-5 days to get the money into my account meaning… https://t.co/Pg7ZJklkOB\",\n",
       " '@Get_Chip @Denzarki Oh good! Well I’ve withdrawn my money first (over £500!) and just waiting for the bonus money to process.',\n",
       " '@Get_Chip @Denzarki And once I have a new bank account can I easily disconnect my current bank and connect my new o… https://t.co/5k0Ldf43bP',\n",
       " '@Get_Chip Why was this not said beforehand though? Why was no notificatuon sent to say that I was chosen as a custo… https://t.co/ELfULeQhqr',\n",
       " 'RT @MattDyson17: Really enjoyed speaking about Rockit’s crowdfunding journey at the @The_Pitch &amp; @Crowdcube Funding Event this morning. Som…',\n",
       " 'RT @MattDyson17: Really enjoyed speaking about Rockit’s crowdfunding journey at the @The_Pitch &amp; @Crowdcube Funding Event this morning. Som…',\n",
       " 'Really enjoyed speaking about Rockit’s crowdfunding journey at the @The_Pitch &amp; @Crowdcube Funding Event this morni… https://t.co/NmOpMnUYTS',\n",
       " '@Get_Chip Why was my identity not verified before you started taking money from my bank account?! This is ridiculou… https://t.co/HdRSaL6Hhm',\n",
       " '@Get_Chip Come on mate, let me take my money out! https://t.co/ZH7ykjXArx',\n",
       " '@Get_Chip having literally the worst experience with this app. Had more money taken automatically than I can afford… https://t.co/ISvyp23lHV',\n",
       " '@Get_Chip @Denzarki So as a HSBC customer if I want to continue to use Chip I should really change banks?',\n",
       " 'RT @getyolt: Great to see Yolt featured in the App Store today alongside some super #fintechs @StarlingBank @monzo @RevolutApp @monese @app…',\n",
       " 'Great to see Yolt featured in the App Store today alongside some super #fintechs @StarlingBank @monzo @RevolutApp… https://t.co/P45zdZdABL',\n",
       " '@Get_Chip took a few months, but didnt notice the money leaving my account. Just broke the 1k mark. https://t.co/FEmdraAjYC',\n",
       " '@Get_Chip hey what is going on I still did not receive my moyni one is replying back to my DM I will have no other… https://t.co/zQfkh6jQLi',\n",
       " '@Get_Chip Hi! Yes I have and it doesn’t mention it there',\n",
       " '@Get_Chip Hi! I can see in my banking app that chip is trying to make a save from Saturday, however I haven’t had a… https://t.co/rnyp6R3LSB',\n",
       " '@Get_Chip I used chip to invest in chip lol',\n",
       " '@Get_Chip @richardwilshaw Cheers, I was able to withdraw some savings and in typical chip fashion it took some back… https://t.co/anPTTrMOM4',\n",
       " '@Get_Chip I think there’s a coding issue. I have overdraft saving off and minimum balance on but it’s still saving… https://t.co/Cq28mxcwGh',\n",
       " '@Get_Chip Hey I’ve DM you',\n",
       " '@Get_Chip Hi, the live chat isnt working in my app?',\n",
       " '@richardwilshaw @Get_Chip My bank account shows as connected and I just withdrew some savings and they moved across… https://t.co/TQRTB9M00G',\n",
       " '@Denzarki @Get_Chip I’m getting these error messages too',\n",
       " \"@Get_Chip Well I guess it's safer now cos I immediately put on finger print verification 😂\",\n",
       " '@Get_Chip Cheers.. When I was getting the spam over the weekend I thought someone was trying to break into my savin… https://t.co/jswvQ7MY9b',\n",
       " '@Get_Chip why cant I withdraw with app and iOS beta 13?',\n",
       " '@Get_Chip when I go into account, my bank account is already connected.. Please advise https://t.co/dKdwsu9eUB',\n",
       " '@Get_Chip live chat appears to be turned off, do you know why?',\n",
       " \"@Get_Chip @martminiwhit @abicgrundy So after all that, the bonus didn't update and I received less than I should have\",\n",
       " \"Hey @Get_Chip has someone tried to access my account if I see this? I didn't do anything then got this notification… https://t.co/qct66Yn6Dc\",\n",
       " '@Get_Chip hey why is no one getting back to me it’s been 48 hour I still did not get my money back to my account',\n",
       " 'When are you going to deal with the bug that actually lets people withdraw their savings within the time frame you… https://t.co/c6ZOY4ql69',\n",
       " 'Big ups to the @Get_Chip team, this app has a pretty decent savings interest AND is performing well in a saturated… https://t.co/d06bRtfjvc',\n",
       " '@Get_Chip hi chip, my auto saves the last couple weeks since an update have been tiny, around £1.50! I’ve upped the… https://t.co/EHyBvNEunZ',\n",
       " '@Get_Chip hey why did money not reached my account I transferred the fund then closed the account I was told 2-3 ho… https://t.co/3qSbSbcWy0']"
      ]
     },
     "execution_count": 18,
     "metadata": {},
     "output_type": "execute_result"
    }
   ],
   "source": [
    "import tweepy\n",
    "import pandas as pd\n",
    "\n",
    "twitter_accounts = ['@get_chip'] #,'@monzo','@StarlingBank','@RevolutApp'\n",
    "\n",
    "# print(twitter_accounts)\n",
    "\n",
    "consumer_key = 'qLSVDZMb4XDKytE26DuApbNok'\n",
    "consumer_secret = 'WJpcfIVv9Iu5nAa5A3fSx1bZdp34mlmmL7KShz1Jj81xK5mofM'\n",
    "access_token = '859383719236444161-xdreob4U9B9JkpRR18q7htmKbKSIMI6'\n",
    "access_token_secret = 'LpGtMOwdojIaDia391ydWoVBz34FLUlfpOTcBhpyPxR6M'\n",
    "\n",
    "auth = tweepy.AppAuthHandler(consumer_key, consumer_secret)\n",
    "auth.secure = True\n",
    "# auth.set_access_token(access_token, access_token_secret)\n",
    "\n",
    "api = tweepy.API(auth,wait_on_rate_limit=True,wait_on_rate_limit_notify=True)\n",
    "\n",
    "tweets = tweepy.Cursor(api.search,q='@get_chip'+'-filter:retweets').items(1000)\n",
    "\n",
    "# Collect a list of tweets\n",
    "[tweet.text for tweet in tweets]\n",
    "\n",
    "# len(tweet)"
   ]
  },
  {
   "cell_type": "code",
   "execution_count": 19,
   "metadata": {},
   "outputs": [
    {
     "data": {
      "text/plain": [
       "67"
      ]
     },
     "execution_count": 19,
     "metadata": {},
     "output_type": "execute_result"
    }
   ],
   "source": [
    "tweets.num_tweets"
   ]
  },
  {
   "cell_type": "code",
   "execution_count": null,
   "metadata": {},
   "outputs": [],
   "source": []
  },
  {
   "cell_type": "code",
   "execution_count": null,
   "metadata": {},
   "outputs": [],
   "source": []
  }
 ],
 "metadata": {
  "kernelspec": {
   "display_name": "Python 3",
   "language": "python",
   "name": "python3"
  },
  "language_info": {
   "codemirror_mode": {
    "name": "ipython",
    "version": 3
   },
   "file_extension": ".py",
   "mimetype": "text/x-python",
   "name": "python",
   "nbconvert_exporter": "python",
   "pygments_lexer": "ipython3",
   "version": "3.7.4"
  }
 },
 "nbformat": 4,
 "nbformat_minor": 2
}
