{
 "cells": [
  {
   "cell_type": "code",
   "execution_count": 33,
   "metadata": {},
   "outputs": [],
   "source": [
    "import tweepy \n",
    "import datetime\n",
    "consumer_key = 'qLSVDZMb4XDKytE26DuApbNok'\n",
    "consumer_secret = 'WJpcfIVv9Iu5nAa5A3fSx1bZdp34mlmmL7KShz1Jj81xK5mofM'\n",
    "access_token = '859383719236444161-xdreob4U9B9JkpRR18q7htmKbKSIMI6'\n",
    "access_token_secret = 'LpGtMOwdojIaDia391ydWoVBz34FLUlfpOTcBhpyPxR6M'\n",
    "\n",
    "auth = tweepy.AppAuthHandler(consumer_key, consumer_secret)\n",
    "auth.secure = True\n",
    "api = tweepy.API(auth,wait_on_rate_limit=True,wait_on_rate_limit_notify=True)"
   ]
  },
  {
   "cell_type": "code",
   "execution_count": 34,
   "metadata": {},
   "outputs": [],
   "source": [
    "account_list = ['@get_chip','@monzo','@StarlingBank','@RevolutApp']"
   ]
  },
  {
   "cell_type": "code",
   "execution_count": 74,
   "metadata": {},
   "outputs": [
    {
     "name": "stdout",
     "output_type": "stream",
     "text": [
      "Name:Chip\n",
      "Name:Monzo\n",
      "Name:Starling Bank\n",
      "Name:Revolut\n"
     ]
    }
   ],
   "source": [
    "def avg_tweets_p_day(item):\n",
    "    tweets = item.statuses_count\n",
    "    cdate = item.created_at\n",
    "    elapsed = datetime.datetime.now() - cdate\n",
    "    days_old = elapsed.days\n",
    "    avg_tw = str(round(tweets/days_old,2))\n",
    "    return avg_tw\n",
    "\n",
    "# ok = [api.get_user(item) for item in account_list]\n",
    "for item in account_list:\n",
    "    item = api.get_user(item)\n",
    "#     ok.append = [item.name,avg_tweets_p_day(item)]\n",
    "    print('Name:'+item.name)\n",
    "#     print(avg_tweets_p_day(item))\n",
    "#     print('Created:'+str(item.created_at))\n",
    "#     print('sc:'+str(item.statuses_count))\n",
    "    \n",
    "    \n",
    "#     f = open('ok.txt', mode='wt')\n",
    "#     f.write(ok)\n",
    "#     f.close()"
   ]
  }
 ],
 "metadata": {
  "kernelspec": {
   "display_name": "Python 3",
   "language": "python",
   "name": "python3"
  },
  "language_info": {
   "codemirror_mode": {
    "name": "ipython",
    "version": 3
   },
   "file_extension": ".py",
   "mimetype": "text/x-python",
   "name": "python",
   "nbconvert_exporter": "python",
   "pygments_lexer": "ipython3",
   "version": "3.7.4"
  }
 },
 "nbformat": 4,
 "nbformat_minor": 2
}
